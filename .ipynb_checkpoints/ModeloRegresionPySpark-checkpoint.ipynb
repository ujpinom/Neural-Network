{
 "cells": [
  {
   "cell_type": "code",
   "execution_count": 1,
   "metadata": {},
   "outputs": [],
   "source": [
    "from pyspark import SparkContext;from pyspark.sql import SQLContext\n",
    "sc=SparkContext()\n",
    "slcont= SQLContext(sc)"
   ]
  },
  {
   "cell_type": "code",
   "execution_count": 2,
   "metadata": {},
   "outputs": [],
   "source": [
    "bd5 = slcont.read.format(\n",
    "    \"com.databricks.spark.csv\"\n",
    ").option(\"header\", \"true\").load(r'C:\\Users\\SONY\\Desktop\\SQlPostgre\\practical-sql-master\\Chapter_04\\bd5.csv', inferSchema=True)"
   ]
  },
  {
   "cell_type": "code",
   "execution_count": 3,
   "metadata": {},
   "outputs": [],
   "source": [
    "slcont.registerDataFrameAsTable(bd5,'bd5')"
   ]
  },
  {
   "cell_type": "code",
   "execution_count": 4,
   "metadata": {},
   "outputs": [
    {
     "data": {
      "text/plain": [
       "[('Year', 'int'),\n",
       " ('Month', 'int'),\n",
       " ('DayofMonth', 'int'),\n",
       " ('DayOfWeek', 'int'),\n",
       " ('CRSDepTime', 'int'),\n",
       " ('UniqueCarrier', 'string'),\n",
       " ('TailNum', 'string'),\n",
       " ('ArrDelay', 'double'),\n",
       " ('DepDelay', 'double'),\n",
       " ('Origin', 'string'),\n",
       " ('Dest', 'string'),\n",
       " ('Distance', 'double'),\n",
       " ('Cancelled', 'double'),\n",
       " ('Diverted', 'double'),\n",
       " ('CarrierDelay', 'double'),\n",
       " ('WeatherDelay', 'double'),\n",
       " ('NASDelay', 'double'),\n",
       " ('SecurityDelay', 'double'),\n",
       " ('LateAircraftDelay', 'double'),\n",
       " ('Retraso', 'int'),\n",
       " ('RetrasoNeto', 'double'),\n",
       " ('LogD', 'double'),\n",
       " ('Horario', 'int')]"
      ]
     },
     "execution_count": 4,
     "metadata": {},
     "output_type": "execute_result"
    }
   ],
   "source": [
    "bd5.dtypes"
   ]
  },
  {
   "cell_type": "code",
   "execution_count": 5,
   "metadata": {},
   "outputs": [],
   "source": [
    "from pyspark.ml.feature import StringIndexer\n",
    "\n",
    "indexer=StringIndexer(inputCol='UniqueCarrier',outputCol='CarrierNum')\n",
    "bd6=indexer.fit(bd5).transform(bd5)"
   ]
  },
  {
   "cell_type": "code",
   "execution_count": 6,
   "metadata": {},
   "outputs": [],
   "source": [
    "from pyspark.ml.feature import VectorAssembler\n",
    "\n",
    "a1  = VectorAssembler(\n",
    "   inputCols=['DepDelay','Distance','DayOfWeek',\n",
    "               'CRSDepTime','CarrierNum'],\n",
    "    outputCol='features')\n",
    "bd7 = a1.transform(bd6)"
   ]
  },
  {
   "cell_type": "code",
   "execution_count": 7,
   "metadata": {},
   "outputs": [
    {
     "name": "stdout",
     "output_type": "stream",
     "text": [
      "+--------+--------------------+\n",
      "|ArrDelay|            features|\n",
      "+--------+--------------------+\n",
      "|    -7.0|[-5.0,1235.0,4.0,...|\n",
      "|    -3.0|[5.0,1235.0,5.0,8...|\n",
      "|    -3.0|[-3.0,1235.0,6.0,...|\n",
      "|    -2.0|[-7.0,1235.0,7.0,...|\n",
      "|    -2.0|[-6.0,1235.0,1.0,...|\n",
      "|     0.0|[-1.0,1235.0,2.0,...|\n",
      "|    -6.0|[0.0,1235.0,3.0,8...|\n",
      "|     7.0|[0.0,1235.0,4.0,8...|\n",
      "|    -9.0|[-1.0,1235.0,5.0,...|\n",
      "|    -2.0|[-1.0,1235.0,6.0,...|\n",
      "|    13.0|[1.0,1235.0,7.0,8...|\n",
      "|   -16.0|[-2.0,1235.0,1.0,...|\n",
      "|   -21.0|[-4.0,1235.0,2.0,...|\n",
      "|   -16.0|[-1.0,1235.0,3.0,...|\n",
      "|   -11.0|[0.0,1235.0,4.0,8...|\n",
      "|    -8.0|[0.0,1235.0,5.0,8...|\n",
      "|    -4.0|[13.0,1235.0,6.0,...|\n",
      "|     0.0|[17.0,1235.0,7.0,...|\n",
      "|    -2.0|[12.0,1235.0,1.0,...|\n",
      "|     2.0|[19.0,1235.0,2.0,...|\n",
      "+--------+--------------------+\n",
      "only showing top 20 rows\n",
      "\n"
     ]
    }
   ],
   "source": [
    "\n",
    "\n",
    "bd8=bd7.select('ArrDelay','features')\n",
    "bd8.show()"
   ]
  },
  {
   "cell_type": "code",
   "execution_count": 8,
   "metadata": {},
   "outputs": [
    {
     "name": "stdout",
     "output_type": "stream",
     "text": [
      "21239\n",
      "9227\n"
     ]
    }
   ],
   "source": [
    "bd_train, bd_test = bd8.randomSplit([0.7, 0.3],seed=123)\n",
    "print(bd_train.count())\n",
    "print(bd_test.count())"
   ]
  },
  {
   "cell_type": "code",
   "execution_count": 16,
   "metadata": {},
   "outputs": [
    {
     "name": "stdout",
     "output_type": "stream",
     "text": [
      "+--------+--------------------+-------------------+\n",
      "|ArrDelay|            features|         prediction|\n",
      "+--------+--------------------+-------------------+\n",
      "|   -53.0|[-8.0,1744.0,2.0,...|-11.464675324675325|\n",
      "|   -49.0|[-13.0,1744.0,3.0...|-11.464675324675325|\n",
      "|   -48.0|[-12.0,1744.0,1.0...|-11.464675324675325|\n",
      "|   -48.0|[-7.0,1235.0,6.0,...|-11.464675324675325|\n",
      "|   -48.0|[-7.0,1514.0,5.0,...|-11.464675324675325|\n",
      "|   -47.0|[-7.0,1744.0,1.0,...|-11.464675324675325|\n",
      "|   -47.0|[-6.0,1514.0,2.0,...|-11.464675324675325|\n",
      "|   -46.0|[-13.0,1514.0,6.0...|-11.464675324675325|\n",
      "|   -46.0|[-8.0,888.0,6.0,7...|-11.464675324675325|\n",
      "|   -46.0|[-6.0,1744.0,2.0,...|-11.464675324675325|\n",
      "|   -46.0|[-5.0,1744.0,3.0,...|-11.464675324675325|\n",
      "|   -45.0|[-5.0,1440.0,5.0,...|-11.464675324675325|\n",
      "|   -45.0|[-5.0,1514.0,7.0,...|-11.464675324675325|\n",
      "|   -44.0|[-15.0,1514.0,2.0...|-11.464675324675325|\n",
      "|   -44.0|[-7.0,1846.0,2.0,...|-11.464675324675325|\n",
      "|   -44.0|[-5.0,1946.0,2.0,...|-11.464675324675325|\n",
      "|   -44.0|[-4.0,1744.0,4.0,...| -7.903555658842668|\n",
      "|   -44.0|[-3.0,1514.0,2.0,...| -7.903555658842668|\n",
      "|   -44.0|[-2.0,1199.0,4.0,...| -7.903555658842668|\n",
      "|   -44.0|[-1.0,1846.0,2.0,...| -4.765796124684077|\n",
      "+--------+--------------------+-------------------+\n",
      "only showing top 20 rows\n",
      "\n"
     ]
    }
   ],
   "source": [
    "from pyspark.ml.regression import DecisionTreeRegressor\n",
    "dtr=DecisionTreeRegressor(maxDepth=5,labelCol='ArrDelay')\n",
    "modelo=dtr.fit(bd_train)\n",
    "pred=modelo.transform(bd_train)\n",
    "pred.show()"
   ]
  },
  {
   "cell_type": "code",
   "execution_count": 17,
   "metadata": {},
   "outputs": [
    {
     "name": "stdout",
     "output_type": "stream",
     "text": [
      "0.7276974154051317\n"
     ]
    }
   ],
   "source": [
    "from pyspark.ml.evaluation import RegressionEvaluator\n",
    "print(RegressionEvaluator(metricName=\"r2\",labelCol='ArrDelay').evaluate(pred))"
   ]
  },
  {
   "cell_type": "code",
   "execution_count": 18,
   "metadata": {},
   "outputs": [
    {
     "name": "stdout",
     "output_type": "stream",
     "text": [
      "0.6842986731223328\n"
     ]
    }
   ],
   "source": [
    "pred_tes=modelo.transform(bd_test)\n",
    "print(RegressionEvaluator(metricName=\"r2\",labelCol='ArrDelay').evaluate(pred_tes))"
   ]
  }
 ],
 "metadata": {
  "kernelspec": {
   "display_name": "Python 3",
   "language": "python",
   "name": "python3"
  },
  "language_info": {
   "codemirror_mode": {
    "name": "ipython",
    "version": 3
   },
   "file_extension": ".py",
   "mimetype": "text/x-python",
   "name": "python",
   "nbconvert_exporter": "python",
   "pygments_lexer": "ipython3",
   "version": "3.7.6"
  }
 },
 "nbformat": 4,
 "nbformat_minor": 4
}
