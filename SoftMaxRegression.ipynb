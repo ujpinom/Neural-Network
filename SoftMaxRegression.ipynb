{
 "cells": [
  {
   "cell_type": "code",
   "execution_count": 1,
   "metadata": {},
   "outputs": [],
   "source": [
    "import numpy as np;import pandas as pd;import matplotlib.pyplot as plt;\n",
    "from sklearn.datasets import load_iris\n",
    "iris=load_iris()\n",
    "X=iris.data[:,[2,3]]\n",
    "y=iris.target"
   ]
  },
  {
   "cell_type": "code",
   "execution_count": 2,
   "metadata": {},
   "outputs": [],
   "source": [
    "\n",
    "np.random.seed(2042)\n",
    "                     "
   ]
  },
  {
   "cell_type": "markdown",
   "metadata": {},
   "source": [
    "## La siguiente función cumple una función similar a train_test_split() de Scikit-learn"
   ]
  },
  {
   "cell_type": "code",
   "execution_count": 3,
   "metadata": {},
   "outputs": [],
   "source": [
    "\n",
    "def train_test_split2_0(X,y,tamanio_test=0.2,tamanio_vali=0.2):\n",
    "    tamanio_set=len(X)\n",
    "    tamanio_test=int(tamanio_set*tamanio_test)\n",
    "    tamanio_vali=int(tamanio_set*tamanio_vali)\n",
    "    tamanio_train=tamanio_set-tamanio_test-tamanio_vali\n",
    "    \n",
    "    randonm_indices=np.random.permutation(tamanio_set)\n",
    "    \n",
    "    X_train=X[randonm_indices[:tamanio_train]]\n",
    "    y_train=y[randonm_indices[:tamanio_train]]\n",
    "    X_vali=X[randonm_indices[tamanio_train:-tamanio_test]]\n",
    "    y_vali=y[randonm_indices[tamanio_train:-tamanio_test]]\n",
    "    X_test=X[randonm_indices[-tamanio_test:]]\n",
    "    y_test=y[randonm_indices[-tamanio_test:]]\n",
    "    \n",
    "    return X_train,y_train,X_vali,y_vali,X_test,y_test\n",
    "\n",
    "\n",
    "  \n",
    "    "
   ]
  },
  {
   "cell_type": "code",
   "execution_count": 4,
   "metadata": {},
   "outputs": [],
   "source": [
    "X_train,y_train,X_vali,y_vali,X_test,y_test=train_test_split2_0(X,y)\n"
   ]
  },
  {
   "cell_type": "markdown",
   "metadata": {},
   "source": [
    "$\\sigma\\left(\\mathbf{s}(\\mathbf{x})\\right)_k = \\dfrac{\\exp\\left(s_k(\\mathbf{x})\\right)}{\\sum\\limits_{j=1}^{K}{\\exp\\left(s_j(\\mathbf{x})\\right)}}$\n",
    "\n"
   ]
  },
  {
   "cell_type": "markdown",
   "metadata": {},
   "source": [
    "### El algoritmo SoftMax fue implementado from scratch en el archivo SoftMaxClassifier"
   ]
  },
  {
   "cell_type": "code",
   "execution_count": 5,
   "metadata": {},
   "outputs": [
    {
     "data": {
      "text/plain": [
       "<SoftMaxClassifier.SFT at 0x1f945d5f8c8>"
      ]
     },
     "execution_count": 5,
     "metadata": {},
     "output_type": "execute_result"
    }
   ],
   "source": [
    "from SoftMaxClassifier import SFT\n",
    "\n",
    "modelo=SFT(random_state=2042,eta=0.1)\n",
    "\n",
    "modelo.fit(X_train,y_train)"
   ]
  },
  {
   "cell_type": "code",
   "execution_count": 6,
   "metadata": {},
   "outputs": [],
   "source": [
    "y_pred=modelo.predict(X_vali)"
   ]
  },
  {
   "cell_type": "code",
   "execution_count": 7,
   "metadata": {},
   "outputs": [
    {
     "data": {
      "text/plain": [
       "1.0"
      ]
     },
     "execution_count": 7,
     "metadata": {},
     "output_type": "execute_result"
    }
   ],
   "source": [
    "np.mean(y_vali==y_pred)"
   ]
  },
  {
   "cell_type": "code",
   "execution_count": 8,
   "metadata": {},
   "outputs": [
    {
     "data": {
      "text/plain": [
       "0.9333333333333333"
      ]
     },
     "execution_count": 8,
     "metadata": {},
     "output_type": "execute_result"
    }
   ],
   "source": [
    "y_pred=modelo.predict(X_test)\n",
    "np.mean(y_test==y_pred)"
   ]
  },
  {
   "cell_type": "code",
   "execution_count": 9,
   "metadata": {},
   "outputs": [
    {
     "data": {
      "text/plain": [
       "<matplotlib.legend.Legend at 0x1f946a0cbc8>"
      ]
     },
     "execution_count": 9,
     "metadata": {},
     "output_type": "execute_result"
    },
    {
     "data": {
      "image/png": "[encoded data removed]",
      "text/plain": [
       "<Figure size 432x288 with 1 Axes>"
      ]
     },
     "metadata": {
      "needs_background": "light"
     },
     "output_type": "display_data"
    }
   ],
   "source": [
    "x_min, x_max = X[:, 0].min() - 1, X[:, 0].max() + 1\n",
    "y_min, y_max = X[:, 1].min() - 1, X[:, 1].max() + 1\n",
    "xx, yy = np.meshgrid(np.arange(x_min, x_max, 0.01),np.arange(y_min, y_max, 0.01))\n",
    "Z = modelo.predict(np.c_[xx.ravel(), yy.ravel()])\n",
    "Z = Z.reshape(xx.shape)\n",
    "plt.contourf(xx, yy, Z, cmap='rainbow')\n",
    "plt.scatter(X[y==0,0],X[y==0,1],c='red',label='Iris-Setosa')\n",
    "plt.scatter(X[y==1,0],X[y==1,1],c='blue',label='Iris-Versicolor')\n",
    "plt.scatter(X[y==2,0],X[y==2,1],c='green',label='Iris-Virginica')\n",
    "plt.title(\"Superficie de decisión SoftMaxClassifier\")\n",
    "plt.xlabel('Petal length');plt.ylabel('Petal width')\n",
    "plt.axis('tight')\n",
    "plt.legend()"
   ]
  },
  {
   "cell_type": "markdown",
   "metadata": {},
   "source": [
    "#### En general el algoritmo construido desde cero presenta un buen rendimiento como se puede observar en la superficie de decisión. El rendimiento se puede mejorar controlando el parámetro de regularización o modificando la tasa de aprendizaje."
   ]
  }
 ],
 "metadata": {
  "kernelspec": {
   "display_name": "Python 3",
   "language": "python",
   "name": "python3"
  },
  "language_info": {
   "codemirror_mode": {
    "name": "ipython",
    "version": 3
   },
   "file_extension": ".py",
   "mimetype": "text/x-python",
   "name": "python",
   "nbconvert_exporter": "python",
   "pygments_lexer": "ipython3",
   "version": "3.7.6"
  }
 },
 "nbformat": 4,
 "nbformat_minor": 4
}
