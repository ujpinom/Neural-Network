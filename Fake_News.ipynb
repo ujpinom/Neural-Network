{
 "cells": [
  {
   "cell_type": "code",
   "execution_count": 1,
   "metadata": {},
   "outputs": [
    {
     "data": {
      "text/html": [
       "<div>\n",
       "<style scoped>\n",
       "    .dataframe tbody tr th:only-of-type {\n",
       "        vertical-align: middle;\n",
       "    }\n",
       "\n",
       "    .dataframe tbody tr th {\n",
       "        vertical-align: top;\n",
       "    }\n",
       "\n",
       "    .dataframe thead th {\n",
       "        text-align: right;\n",
       "    }\n",
       "</style>\n",
       "<table border=\"1\" class=\"dataframe\">\n",
       "  <thead>\n",
       "    <tr style=\"text-align: right;\">\n",
       "      <th></th>\n",
       "      <th>Unnamed: 0</th>\n",
       "      <th>title</th>\n",
       "      <th>text</th>\n",
       "      <th>label</th>\n",
       "    </tr>\n",
       "  </thead>\n",
       "  <tbody>\n",
       "    <tr>\n",
       "      <th>0</th>\n",
       "      <td>8476</td>\n",
       "      <td>You Can Smell Hillary’s Fear</td>\n",
       "      <td>Daniel Greenfield, a Shillman Journalism Fello...</td>\n",
       "      <td>FAKE</td>\n",
       "    </tr>\n",
       "    <tr>\n",
       "      <th>1</th>\n",
       "      <td>10294</td>\n",
       "      <td>Watch The Exact Moment Paul Ryan Committed Pol...</td>\n",
       "      <td>Google Pinterest Digg Linkedin Reddit Stumbleu...</td>\n",
       "      <td>FAKE</td>\n",
       "    </tr>\n",
       "    <tr>\n",
       "      <th>2</th>\n",
       "      <td>3608</td>\n",
       "      <td>Kerry to go to Paris in gesture of sympathy</td>\n",
       "      <td>U.S. Secretary of State John F. Kerry said Mon...</td>\n",
       "      <td>REAL</td>\n",
       "    </tr>\n",
       "    <tr>\n",
       "      <th>3</th>\n",
       "      <td>10142</td>\n",
       "      <td>Bernie supporters on Twitter erupt in anger ag...</td>\n",
       "      <td>— Kaydee King (@KaydeeKing) November 9, 2016 T...</td>\n",
       "      <td>FAKE</td>\n",
       "    </tr>\n",
       "    <tr>\n",
       "      <th>4</th>\n",
       "      <td>875</td>\n",
       "      <td>The Battle of New York: Why This Primary Matters</td>\n",
       "      <td>It's primary day in New York and front-runners...</td>\n",
       "      <td>REAL</td>\n",
       "    </tr>\n",
       "  </tbody>\n",
       "</table>\n",
       "</div>"
      ],
      "text/plain": [
       "   Unnamed: 0                                              title  \\\n",
       "0        8476                       You Can Smell Hillary’s Fear   \n",
       "1       10294  Watch The Exact Moment Paul Ryan Committed Pol...   \n",
       "2        3608        Kerry to go to Paris in gesture of sympathy   \n",
       "3       10142  Bernie supporters on Twitter erupt in anger ag...   \n",
       "4         875   The Battle of New York: Why This Primary Matters   \n",
       "\n",
       "                                                text label  \n",
       "0  Daniel Greenfield, a Shillman Journalism Fello...  FAKE  \n",
       "1  Google Pinterest Digg Linkedin Reddit Stumbleu...  FAKE  \n",
       "2  U.S. Secretary of State John F. Kerry said Mon...  REAL  \n",
       "3  — Kaydee King (@KaydeeKing) November 9, 2016 T...  FAKE  \n",
       "4  It's primary day in New York and front-runners...  REAL  "
      ]
     },
     "execution_count": 1,
     "metadata": {},
     "output_type": "execute_result"
    }
   ],
   "source": [
    "import numpy as np;import pandas as pd;import matplotlib.pyplot as plt\n",
    "\n",
    "noticias=pd.read_csv(r'C:\\Users\\SONY\\Desktop\\NumPy\\news.csv')\n",
    "noticias.head()"
   ]
  },
  {
   "cell_type": "code",
   "execution_count": 8,
   "metadata": {},
   "outputs": [],
   "source": [
    "from sklearn.model_selection import train_test_split;from sklearn.feature_extraction.text import TfidfVectorizer;\n",
    "from sklearn.metrics import accuracy_score,confusion_matrix;from sklearn.linear_model import PassiveAggressiveClassifier\n",
    "\n",
    "X=noticias['text'].values\n",
    "y=noticias.label.values\n",
    "\n",
    "\n",
    "X_train,X_test,y_train,y_test=train_test_split(X,y,test_size=0.2,stratify=y,random_state=0)\n",
    "\n"
   ]
  },
  {
   "cell_type": "code",
   "execution_count": 11,
   "metadata": {},
   "outputs": [
    {
     "name": "stdout",
     "output_type": "stream",
     "text": [
      "Precisión Entrenamiento: 1.000\n",
      "Precisión validación: 0.944\n"
     ]
    }
   ],
   "source": [
    "tfd=TfidfVectorizer(stop_words='english',max_df=0.7)\n",
    "X_train_vect=tfd.fit_transform(X_train)\n",
    "X_test_vect=tfd.transform(X_test)\n",
    "modelo=PassiveAggressiveClassifier(max_iter=100)\n",
    "modelo.fit(X_train_vect,y_train)\n",
    "y_pred=modelo.predict(X_test_vect)\n",
    "print(f'Precisión Entrenamiento: {accuracy_score(y_train,modelo.predict(X_train_vect)):.3f}')\n",
    "print(f'Precisión validación: {accuracy_score(y_test,y_pred):.3f}')"
   ]
  },
  {
   "cell_type": "markdown",
   "metadata": {},
   "source": [
    "###### Aunque el modelo predice relativamente bien el conjunto de datos de validación, vemos sin embargo, que existe cierto grado de overfitting ya que se ajusta perfectamente sobre el conjunto de datos de entrenamiento pero no así sobre los datos desconocidos. Ahora se va a tratar de tunear los parametros del modelo mediante GridSearchCV con el proposito de buscar el mejor rendimiento."
   ]
  },
  {
   "cell_type": "code",
   "execution_count": 12,
   "metadata": {},
   "outputs": [
    {
     "data": {
      "text/plain": [
       "GridSearchCV(cv=7, error_score=nan,\n",
       "             estimator=Pipeline(memory=None,\n",
       "                                steps=[('PAC',\n",
       "                                        PassiveAggressiveClassifier(C=1.0,\n",
       "                                                                    average=False,\n",
       "                                                                    class_weight=None,\n",
       "                                                                    early_stopping=False,\n",
       "                                                                    fit_intercept=True,\n",
       "                                                                    loss='hinge',\n",
       "                                                                    max_iter=1000,\n",
       "                                                                    n_iter_no_change=5,\n",
       "                                                                    n_jobs=None,\n",
       "                                                                    random_state=None,\n",
       "                                                                    shuffle=True,\n",
       "                                                                    tol=0.001,\n",
       "                                                                    validation_fraction=0.1,\n",
       "                                                                    verbose=0,\n",
       "                                                                    warm_start=False))],\n",
       "                                verbose=False),\n",
       "             iid='deprecated', n_jobs=-1,\n",
       "             param_grid=[{'PAC__C': [0.01, 0.1, 1, 10, 100],\n",
       "                          'PAC__max_iter': [50, 60, 70, 80, 90, 100]}],\n",
       "             pre_dispatch='2*n_jobs', refit=True, return_train_score=False,\n",
       "             scoring=None, verbose=0)"
      ]
     },
     "execution_count": 12,
     "metadata": {},
     "output_type": "execute_result"
    }
   ],
   "source": [
    "from sklearn.model_selection import GridSearchCV;from sklearn.pipeline import Pipeline\n",
    "pipe=Pipeline([('PAC',PassiveAggressiveClassifier())])\n",
    "parametros=[{'PAC__max_iter':[50,60,70,80,90,100],'PAC__C':[0.01,0.1,1,10,100]}]\n",
    "grid=GridSearchCV(estimator=pipe,param_grid=parametros,cv=7,n_jobs=-1)\n",
    "grid.fit(X_train_vect,y_train)"
   ]
  },
  {
   "cell_type": "code",
   "execution_count": 13,
   "metadata": {},
   "outputs": [
    {
     "data": {
      "text/plain": [
       "{'PAC__C': 0.01, 'PAC__max_iter': 90}"
      ]
     },
     "execution_count": 13,
     "metadata": {},
     "output_type": "execute_result"
    }
   ],
   "source": [
    "grid.best_params_"
   ]
  },
  {
   "cell_type": "code",
   "execution_count": 14,
   "metadata": {},
   "outputs": [
    {
     "name": "stdout",
     "output_type": "stream",
     "text": [
      "Precisión Entrenamiento: 0.988\n",
      "Precisión validación: 0.946\n"
     ]
    }
   ],
   "source": [
    "modelo=grid.best_estimator_\n",
    "modelo.fit(X_train_vect,y_train)\n",
    "y_pred=modelo.predict(X_test_vect)\n",
    "print(f'Precisión Entrenamiento: {accuracy_score(y_train,modelo.predict(X_train_vect)):.3f}')\n",
    "print(f'Precisión validación: {accuracy_score(y_test,y_pred):.3f}')"
   ]
  },
  {
   "cell_type": "markdown",
   "metadata": {},
   "source": [
    "###### Los valores obtenidos no evidencian una mejora significativa sobre los resultados previamente obtenidos. Ahora se va a comparar el rendiemiento del modelo anterior con otros algoritmos de clasificación "
   ]
  },
  {
   "cell_type": "code",
   "execution_count": 26,
   "metadata": {},
   "outputs": [
    {
     "name": "stdout",
     "output_type": "stream",
     "text": [
      "Modelo:  LogisticRegression\n",
      "Precisión Entrenamiento: 0.958\n",
      "Precisión validación: 0.912\n",
      "\n",
      "Modelo:  RandomForestClassifier\n",
      "Precisión Entrenamiento: 1.000\n",
      "Precisión validación: 0.909\n",
      "\n",
      "Modelo:  ComplementNB\n",
      "Precisión Entrenamiento: 0.968\n",
      "Precisión validación: 0.895\n",
      "\n",
      "Modelo:  SGDClassifier\n",
      "Precisión Entrenamiento: 0.994\n",
      "Precisión validación: 0.935\n",
      "\n"
     ]
    }
   ],
   "source": [
    "from sklearn.linear_model import LogisticRegression;from sklearn.naive_bayes import ComplementNB\n",
    "from sklearn.linear_model import SGDClassifier\n",
    "from sklearn.svm import SVC;from sklearn.ensemble import VotingClassifier;from sklearn.ensemble import RandomForestClassifier\n",
    "lr=LogisticRegression(random_state=0)\n",
    "rc=RandomForestClassifier(n_estimators=200)\n",
    "cm=ComplementNB(alpha=.1)\n",
    "sgdc=SGDClassifier(alpha=.0001, max_iter=50, penalty=\"elasticnet\")\n",
    "\n",
    "\n",
    "estimadores=[lr,rc,cm,sgdc]\n",
    "nombres=['LogisticRegression','RandomForestClassifier','ComplementNB','SGDClassifier']\n",
    "\n",
    "for estimador,nombre in zip(estimadores,nombres):\n",
    "    estimador.fit(X_train_vect,y_train)\n",
    "    y_pred=estimador.predict(X_test_vect)\n",
    "    print('Modelo: ',nombre)\n",
    "    print(f'Precisión Entrenamiento: {accuracy_score(y_train,estimador.predict(X_train_vect)):.3f}')\n",
    "    print(f'Precisión validación: {accuracy_score(y_test,y_pred):.3f}')\n",
    "    print()\n",
    "\n",
    "\n"
   ]
  },
  {
   "cell_type": "markdown",
   "metadata": {},
   "source": []
  }
 ],
 "metadata": {
  "kernelspec": {
   "display_name": "Python 3",
   "language": "python",
   "name": "python3"
  },
  "language_info": {
   "codemirror_mode": {
    "name": "ipython",
    "version": 3
   },
   "file_extension": ".py",
   "mimetype": "text/x-python",
   "name": "python",
   "nbconvert_exporter": "python",
   "pygments_lexer": "ipython3",
   "version": "3.7.6"
  }
 },
 "nbformat": 4,
 "nbformat_minor": 4
}
