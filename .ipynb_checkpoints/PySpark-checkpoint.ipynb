{
 "cells": [
  {
   "cell_type": "code",
   "execution_count": 1,
   "metadata": {},
   "outputs": [],
   "source": [
    "from pyspark import SparkContext\n",
    "sc=SparkContext()\n",
    "from pyspark.sql import SQLContext\n",
    "sQLContext= SQLContext(sc)"
   ]
  },
  {
   "cell_type": "code",
   "execution_count": 2,
   "metadata": {},
   "outputs": [
    {
     "data": {
      "text/plain": [
       "'3.1.1'"
      ]
     },
     "execution_count": 2,
     "metadata": {},
     "output_type": "execute_result"
    }
   ],
   "source": [
    "sc.version"
   ]
  },
  {
   "cell_type": "code",
   "execution_count": 3,
   "metadata": {},
   "outputs": [
    {
     "data": {
      "text/plain": [
       "ParallelCollectionRDD[0] at readRDDFromFile at PythonRDD.scala:274"
      ]
     },
     "execution_count": 3,
     "metadata": {},
     "output_type": "execute_result"
    }
   ],
   "source": [
    "A=[1,2,3,5,6,6,7,7]\n",
    "sc.parallelize(A)\n",
    "\n"
   ]
  },
  {
   "cell_type": "code",
   "execution_count": 5,
   "metadata": {},
   "outputs": [],
   "source": [
    "bd = sQLContext.read.format(\"com.databricks.spark.csv\"\n",
    ").option(\"header\", \"true\"\n",
    ").load(r'C:\\Users\\SONY\\Desktop\\BigDta\\On_Time_On_Time_Performance_2016_12.csv', inferSchema=True\n",
    ")"
   ]
  },
  {
   "cell_type": "code",
   "execution_count": 7,
   "metadata": {},
   "outputs": [
    {
     "data": {
      "text/plain": [
       "[('Year', 'int'),\n",
       " ('Quarter', 'int'),\n",
       " ('Month', 'int'),\n",
       " ('DayofMonth', 'int'),\n",
       " ('DayOfWeek', 'int'),\n",
       " ('FlightDate', 'string'),\n",
       " ('UniqueCarrier', 'string'),\n",
       " ('AirlineID', 'int'),\n",
       " ('Carrier', 'string'),\n",
       " ('TailNum', 'string'),\n",
       " ('FlightNum', 'int'),\n",
       " ('OriginAirportID', 'int'),\n",
       " ('OriginAirportSeqID', 'int'),\n",
       " ('OriginCityMarketID', 'int'),\n",
       " ('Origin', 'string'),\n",
       " ('OriginCityName', 'string'),\n",
       " ('OriginState', 'string'),\n",
       " ('OriginStateFips', 'int'),\n",
       " ('OriginStateName', 'string'),\n",
       " ('OriginWac', 'int'),\n",
       " ('DestAirportID', 'int'),\n",
       " ('DestAirportSeqID', 'int'),\n",
       " ('DestCityMarketID', 'int'),\n",
       " ('Dest', 'string'),\n",
       " ('DestCityName', 'string'),\n",
       " ('DestState', 'string'),\n",
       " ('DestStateFips', 'int'),\n",
       " ('DestStateName', 'string'),\n",
       " ('DestWac', 'int'),\n",
       " ('CRSDepTime', 'int'),\n",
       " ('DepTime', 'int'),\n",
       " ('DepDelay', 'double'),\n",
       " ('DepDelayMinutes', 'double'),\n",
       " ('DepDel15', 'double'),\n",
       " ('DepartureDelayGroups', 'int'),\n",
       " ('DepTimeBlk', 'string'),\n",
       " ('TaxiOut', 'double'),\n",
       " ('WheelsOff', 'int'),\n",
       " ('WheelsOn', 'int'),\n",
       " ('TaxiIn', 'double'),\n",
       " ('CRSArrTime', 'int'),\n",
       " ('ArrTime', 'int'),\n",
       " ('ArrDelay', 'double'),\n",
       " ('ArrDelayMinutes', 'double'),\n",
       " ('ArrDel15', 'double'),\n",
       " ('ArrivalDelayGroups', 'int'),\n",
       " ('ArrTimeBlk', 'string'),\n",
       " ('Cancelled', 'double'),\n",
       " ('CancellationCode', 'string'),\n",
       " ('Diverted', 'double'),\n",
       " ('CRSElapsedTime', 'double'),\n",
       " ('ActualElapsedTime', 'double'),\n",
       " ('AirTime', 'double'),\n",
       " ('Flights', 'double'),\n",
       " ('Distance', 'double'),\n",
       " ('DistanceGroup', 'int'),\n",
       " ('CarrierDelay', 'double'),\n",
       " ('WeatherDelay', 'double'),\n",
       " ('NASDelay', 'double'),\n",
       " ('SecurityDelay', 'double'),\n",
       " ('LateAircraftDelay', 'double'),\n",
       " ('FirstDepTime', 'int'),\n",
       " ('TotalAddGTime', 'double'),\n",
       " ('LongestAddGTime', 'double'),\n",
       " ('DivAirportLandings', 'int'),\n",
       " ('DivReachedDest', 'double'),\n",
       " ('DivActualElapsedTime', 'double'),\n",
       " ('DivArrDelay', 'double'),\n",
       " ('DivDistance', 'double'),\n",
       " ('Div1Airport', 'string'),\n",
       " ('Div1AirportID', 'int'),\n",
       " ('Div1AirportSeqID', 'int'),\n",
       " ('Div1WheelsOn', 'int'),\n",
       " ('Div1TotalGTime', 'double'),\n",
       " ('Div1LongestGTime', 'double'),\n",
       " ('Div1WheelsOff', 'int'),\n",
       " ('Div1TailNum', 'string'),\n",
       " ('Div2Airport', 'string'),\n",
       " ('Div2AirportID', 'int'),\n",
       " ('Div2AirportSeqID', 'int'),\n",
       " ('Div2WheelsOn', 'int'),\n",
       " ('Div2TotalGTime', 'double'),\n",
       " ('Div2LongestGTime', 'double'),\n",
       " ('Div2WheelsOff', 'int'),\n",
       " ('Div2TailNum', 'string'),\n",
       " ('Div3Airport', 'string'),\n",
       " ('Div3AirportID', 'string'),\n",
       " ('Div3AirportSeqID', 'string'),\n",
       " ('Div3WheelsOn', 'string'),\n",
       " ('Div3TotalGTime', 'string'),\n",
       " ('Div3LongestGTime', 'string'),\n",
       " ('Div3WheelsOff', 'string'),\n",
       " ('Div3TailNum', 'string'),\n",
       " ('Div4Airport', 'string'),\n",
       " ('Div4AirportID', 'string'),\n",
       " ('Div4AirportSeqID', 'string'),\n",
       " ('Div4WheelsOn', 'string'),\n",
       " ('Div4TotalGTime', 'string'),\n",
       " ('Div4LongestGTime', 'string'),\n",
       " ('Div4WheelsOff', 'string'),\n",
       " ('Div4TailNum', 'string'),\n",
       " ('Div5Airport', 'string'),\n",
       " ('Div5AirportID', 'string'),\n",
       " ('Div5AirportSeqID', 'string'),\n",
       " ('Div5WheelsOn', 'string'),\n",
       " ('Div5TotalGTime', 'string'),\n",
       " ('Div5LongestGTime', 'string'),\n",
       " ('Div5WheelsOff', 'string'),\n",
       " ('Div5TailNum', 'string'),\n",
       " ('_c109', 'string')]"
      ]
     },
     "execution_count": 7,
     "metadata": {},
     "output_type": "execute_result"
    }
   ],
   "source": [
    "bd.dtypes"
   ]
  },
  {
   "cell_type": "code",
   "execution_count": 8,
   "metadata": {},
   "outputs": [],
   "source": [
    "bd=bd.select('Year','Month','DayofMonth','DayOfWeek','CRSDepTime','UniqueCarrier',\n",
    "             'TailNum', 'ArrDelay','DepDelay','Origin','Dest','Distance','Cancelled', 'Diverted',\n",
    "             'CarrierDelay','WeatherDelay','NASDelay','SecurityDelay','LateAircraftDelay') "
   ]
  },
  {
   "cell_type": "code",
   "execution_count": 19,
   "metadata": {},
   "outputs": [
    {
     "name": "stdout",
     "output_type": "stream",
     "text": [
      "+---------+--------------+------------------+\n",
      "|DayOfWeek|avg(DayOfWeek)|     avg(ArrDelay)|\n",
      "+---------+--------------+------------------+\n",
      "|        1|           1.0|10.820977995110024|\n",
      "|        6|           6.0|12.179739883419252|\n",
      "|        3|           3.0|3.5464597100225683|\n",
      "|        5|           5.0| 8.236093576894339|\n",
      "|        4|           4.0| 7.554505599053753|\n",
      "|        7|           7.0|15.359424593967518|\n",
      "|        2|           2.0| 4.266604010025063|\n",
      "+---------+--------------+------------------+\n",
      "\n"
     ]
    }
   ],
   "source": [
    "bd.select('DayOfWeek','ArrDelay').groupBy('DayOfWeek').mean().show()"
   ]
  },
  {
   "cell_type": "code",
   "execution_count": 20,
   "metadata": {},
   "outputs": [],
   "source": [
    "sQLContext.registerDataFrameAsTable(bd, \"bd\")"
   ]
  },
  {
   "cell_type": "code",
   "execution_count": null,
   "metadata": {},
   "outputs": [],
   "source": [
    "sQLContext"
   ]
  }
 ],
 "metadata": {
  "kernelspec": {
   "display_name": "Python 3",
   "language": "python",
   "name": "python3"
  },
  "language_info": {
   "codemirror_mode": {
    "name": "ipython",
    "version": 3
   },
   "file_extension": ".py",
   "mimetype": "text/x-python",
   "name": "python",
   "nbconvert_exporter": "python",
   "pygments_lexer": "ipython3",
   "version": "3.7.6"
  }
 },
 "nbformat": 4,
 "nbformat_minor": 4
}
